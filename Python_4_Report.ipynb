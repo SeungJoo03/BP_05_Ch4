{
  "nbformat": 4,
  "nbformat_minor": 0,
  "metadata": {
    "colab": {
      "provenance": [],
      "authorship_tag": "ABX9TyOH/6X+KDiUvX20lyEr8lHy",
      "include_colab_link": true
    },
    "kernelspec": {
      "name": "python3",
      "display_name": "Python 3"
    },
    "language_info": {
      "name": "python"
    }
  },
  "cells": [
    {
      "cell_type": "markdown",
      "metadata": {
        "id": "view-in-github",
        "colab_type": "text"
      },
      "source": [
        "<a href=\"https://colab.research.google.com/github/SeungJoo03/BP_05_Ch4/blob/main/Python_4_Report.ipynb\" target=\"_parent\"><img src=\"https://colab.research.google.com/assets/colab-badge.svg\" alt=\"Open In Colab\"/></a>"
      ]
    },
    {
      "cell_type": "markdown",
      "source": [
        "왜 다음과 같은 수식이 오류를 발생시키는가? 올바르게 수정하라"
      ],
      "metadata": {
        "id": "qaTAX4p7kIKV"
      }
    },
    {
      "cell_type": "code",
      "source": [
        "'나는' + str(12) + '개의 사과를 먹었다.'"
      ],
      "metadata": {
        "colab": {
          "base_uri": "https://localhost:8080/",
          "height": 35
        },
        "id": "37mpyInBkL2k",
        "outputId": "f6005da7-c4b9-41b6-92a0-56b71413e3fe"
      },
      "execution_count": 1,
      "outputs": [
        {
          "output_type": "execute_result",
          "data": {
            "text/plain": [
              "'나는12개의 사과를 먹었다.'"
            ],
            "application/vnd.google.colaboratory.intrinsic+json": {
              "type": "string"
            }
          },
          "metadata": {},
          "execution_count": 1
        }
      ]
    },
    {
      "cell_type": "markdown",
      "source": [
        "다음과 같은 수식을 계산하면 결과는 무엇인가?"
      ],
      "metadata": {
        "id": "gOtBkVlwkQBl"
      }
    },
    {
      "cell_type": "code",
      "source": [
        "'apple' + 'grade'\n",
        "'apple' * 3"
      ],
      "metadata": {
        "colab": {
          "base_uri": "https://localhost:8080/",
          "height": 35
        },
        "id": "VINAn6gakSsD",
        "outputId": "1ef2fdcd-5f51-4109-96cc-f3ec5b945b08"
      },
      "execution_count": 2,
      "outputs": [
        {
          "output_type": "execute_result",
          "data": {
            "text/plain": [
              "'appleappleapple'"
            ],
            "application/vnd.google.colaboratory.intrinsic+json": {
              "type": "string"
            }
          },
          "metadata": {},
          "execution_count": 2
        }
      ]
    },
    {
      "cell_type": "markdown",
      "source": [
        "다음과 같이 사용자가 입력한 문자열 중에서 처음 2글자와 마지막 2 글자를 추출한 후에 이들을 합쳐서 출력해보자"
      ],
      "metadata": {
        "id": "rdPQFzNSkX4f"
      }
    },
    {
      "cell_type": "code",
      "source": [
        "str = input(\"문자열을 입력하시오: \")\n",
        "s = str[0:2] + str[-2:]\n",
        "\n",
        "print(s)"
      ],
      "metadata": {
        "colab": {
          "base_uri": "https://localhost:8080/"
        },
        "id": "u1PhIRdpkaMM",
        "outputId": "72b959a1-2be5-498b-eff4-65a6bd1567c8"
      },
      "execution_count": 3,
      "outputs": [
        {
          "output_type": "stream",
          "name": "stdout",
          "text": [
            "문자열을 입력하시오: python\n",
            "pyon\n"
          ]
        }
      ]
    },
    {
      "cell_type": "markdown",
      "source": [
        "다음과 같이 사용자가 입력한 문자열 뒤에 항상 \"하는 중\"를 붙이는 프로그램을 작성해보자"
      ],
      "metadata": {
        "id": "MxbfuLRwkdU-"
      }
    },
    {
      "cell_type": "code",
      "source": [
        "s=input(\"문자열을 입력하시오: \")\n",
        "s += \"하는 중\"\n",
        "print(s)"
      ],
      "metadata": {
        "id": "TYg0rclEkfJu"
      },
      "execution_count": null,
      "outputs": []
    },
    {
      "cell_type": "markdown",
      "source": [
        "사용자가 입력한 기호 안에 문자열을 삽입하려면 어떻게 해야 하는가? 기호는 문자 2개로 이루어있다고 가정한다"
      ],
      "metadata": {
        "id": "8F2PIViikg1h"
      }
    },
    {
      "cell_type": "code",
      "source": [
        "lista = [1, 2, 3, 4]\n",
        "sum = 0\n",
        "sum = lista[0] + lista[1] + lista [2] + lista[3]\n",
        "print(\"리스트 =\", lista)\n",
        "print(\"리스트 숫자들의 합 = \", sum)"
      ],
      "metadata": {
        "id": "3Fr7RCJhkh1J"
      },
      "execution_count": null,
      "outputs": []
    },
    {
      "cell_type": "markdown",
      "source": [
        "4개의 숫자가 들어 있는 리스트가 잇다. 리스트 안의 숫자들을 꺼내서 합계를 계산하여 출력하는 프로그램을 작성하라.반보문은 사용하지 않는다. 리스트의 길이는 항상 4라고 가정한다"
      ],
      "metadata": {
        "id": "OE5tuROGkkD_"
      }
    },
    {
      "cell_type": "markdown",
      "source": [
        "사용자가 입력하는 3개의 좌표(x, y)를 리스트에 저장한다. 이들 좌표를 꺼내서 거북이를 이동하는 프로그램을 작성해보자."
      ],
      "metadata": {
        "id": "4TUcvZ8Gkks9"
      }
    }
  ]
}